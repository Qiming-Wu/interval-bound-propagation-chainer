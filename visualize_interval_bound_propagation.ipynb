{
 "cells": [
  {
   "cell_type": "code",
   "execution_count": 1,
   "metadata": {
    "collapsed": true
   },
   "outputs": [],
   "source": [
    "%matplotlib inline\n",
    "import numpy as np\n",
    "import matplotlib.pyplot as plt\n",
    "import matplotlib\n",
    "import chainer\n",
    "mnist = chainer.datasets.get_mnist(ndim=3)[-1] # test data"
   ]
  },
  {
   "cell_type": "code",
   "execution_count": 2,
   "metadata": {},
   "outputs": [],
   "source": [
    "N = 7\n",
    "\n",
    "def visualize_bounds(samples, merge_as_color=True):\n",
    "    plt.close('all')\n",
    "    print(samples.keys())\n",
    "    for k, vs in samples.items():\n",
    "        if 'l' in k and k.replace('l', 'a') in samples:\n",
    "            continue\n",
    "\n",
    "        if merge_as_color:\n",
    "            if vs['normal'].ndim == 1:\n",
    "                vmin, vmax = np.min(vs['lower']), np.max(vs['upper'])\n",
    "            else:\n",
    "                vmin, vmax = 0., 1.\n",
    "                up_diff = vs['upper']-vs['normal']\n",
    "                low_diff = vs['normal']-vs['lower']\n",
    "                merged_v = np.stack([1. - low_diff,\n",
    "                                     np.ones_like(vs['normal']) - low_diff - up_diff,\n",
    "                                     1. - up_diff], axis=-1)\n",
    "\n",
    "                row_size = merged_v.shape[0] // N + 1\n",
    "                display_activation(merged_v, N, row_size, vmin=vmin, vmax=vmax, label=k + ':range')\n",
    "\n",
    "            for subk, v in vs.items():\n",
    "                if v.ndim == 1:\n",
    "                    v = v.reshape(1, -1, v.shape[0])\n",
    "                row_size = v.shape[0] // N + 1\n",
    "                display_activation(v, N, row_size, vmin=vmin, vmax=vmax, label=k + '.' + subk)\n",
    "        else:\n",
    "            _vmin, _vmax = np.min(vs['lower']), np.max(vs['upper'])\n",
    "            for subk, v in vs.items():\n",
    "                if v.ndim == 1:\n",
    "                    v = v.reshape(1, -1, v.shape[0])\n",
    "                    vmin, vmax = _vmin, _vmax\n",
    "                else:\n",
    "                    vmin, vmax = 0., 1.\n",
    "                row_size = v.shape[0] // N + 1\n",
    "                display_activation(v, N, row_size, vmin=vmin, vmax=vmax, label=k + '.' + subk)\n",
    "    plt.tight_layout()\n",
    "    plt.margins(0, 0)\n",
    "\n",
    "def display_activation(activations, col_size, row_size, vmin=-1, vmax=2, label=None):\n",
    "    index = 0\n",
    "    scale = 1.2\n",
    "\n",
    "    fig = plt.figure(figsize=(row_size*10 * scale, col_size*3.5 * scale * (4./N) ** 3),\n",
    "                     tight_layout=dict(pad=0))\n",
    "\n",
    "    fig.subplots_adjust(bottom=-5, left=-5, top=1, right=1, wspace=0)\n",
    "    for row in range(0, row_size):\n",
    "        for col in range(0, col_size):\n",
    "            if index >= activations.shape[0]:\n",
    "                break\n",
    "            sub_ax = fig.add_subplot(row_size, col_size, index + 1)\n",
    "            if index == 0 and label:\n",
    "                sub_ax.set_title(label)\n",
    "            if activations[index].ndim == 2:\n",
    "                sub_ax.imshow(activations[index, :, :], cmap='Greys', interpolation='nearest',\n",
    "                              vmin=vmin, vmax=vmax)\n",
    "            else:\n",
    "                sub_ax.imshow(activations[index, :, :], interpolation='nearest',\n",
    "                              vmin=vmin, vmax=vmax)\n",
    "            sub_ax.xaxis.set_ticklabels([]), sub_ax.axes.get_xaxis().set_ticks([])\n",
    "            sub_ax.yaxis.set_ticklabels([]), sub_ax.axes.get_yaxis().set_ticks([])\n",
    "            plt.axis('off')\n",
    "            index += 1"
   ]
  },
  {
   "cell_type": "code",
   "execution_count": 3,
   "metadata": {
    "scrolled": false
   },
   "outputs": [
    {
     "name": "stdout",
     "output_type": "stream",
     "text": [
      "and loss weight is linearly decayed [1.0, 1.0] between [1000000000, 1000000000] iterations,\n",
      "and epsilon is linearly increased [0.0, 0.1] between [1000000000, 1000000000].\n"
     ]
    }
   ],
   "source": [
    "# load a model\n",
    "from models import SmallerCNN4Visualization\n",
    "model = SmallerCNN4Visualization(\n",
    "                   n_class=10,\n",
    "                   verify=True,\n",
    "                   warmup_steps=1000000000,\n",
    "                   rampup_steps=1000000000,\n",
    "                   normal_loss_weight=1.,\n",
    "                   epsilon=0.1)"
   ]
  },
  {
   "cell_type": "code",
   "execution_count": 4,
   "metadata": {
    "scrolled": false
   },
   "outputs": [
    {
     "name": "stdout",
     "output_type": "stream",
     "text": [
      "odict_keys(['x', 'l1', 'a1', 'l2', 'a2', 'l3', 'a3', 'y'])\n"
     ]
    },
    {
     "name": "stderr",
     "output_type": "stream",
     "text": [
      "/Users/sos/.pyenv/versions/anaconda3-5.0.0/lib/python3.6/site-packages/matplotlib/figure.py:1743: UserWarning: This figure includes Axes that are not compatible with tight_layout, so its results might be incorrect.\n",
      "  warnings.warn(\"This figure includes Axes that are not \"\n"
     ]
    },
    {
     "data": {
      "image/png": "[encoded data removed]",
      "text/plain": [
       "<matplotlib.figure.Figure at 0x115796ef0>"
      ]
     },
     "metadata": {},
     "output_type": "display_data"
    },
    {
     "data": {
      "image/png": "[encoded data removed]",
      "text/plain": [
       "<matplotlib.figure.Figure at 0x11855c828>"
      ]
     },
     "metadata": {},
     "output_type": "display_data"
    },
    {
     "data": {
      "image/png": "[encoded data removed]",
      "text/plain": [
       "<matplotlib.figure.Figure at 0x118608a90>"
      ]
     },
     "metadata": {},
     "output_type": "display_data"
    },
    {
     "data": {
      "image/png": "[encoded data removed]",
      "text/plain": [
       "<matplotlib.figure.Figure at 0x105ba1710>"
      ]
     },
     "metadata": {},
     "output_type": "display_data"
    },
    {
     "data": {
      "image/png": "[encoded data removed]",
      "text/plain": [
       "<matplotlib.figure.Figure at 0x10685ce10>"
      ]
     },
     "metadata": {},
     "output_type": "display_data"
    },
    {
     "data": {
      "image/png": "[encoded data removed]",
      "text/plain": [
       "<matplotlib.figure.Figure at 0x1187610f0>"
      ]
     },
     "metadata": {},
     "output_type": "display_data"
    },
    {
     "data": {
      "image/png": "[encoded data removed]",
      "text/plain": [
       "<matplotlib.figure.Figure at 0x118a5aef0>"
      ]
     },
     "metadata": {},
     "output_type": "display_data"
    },
    {
     "data": {
      "image/png": "[encoded data removed]",
      "text/plain": [
       "<matplotlib.figure.Figure at 0x118dc4898>"
      ]
     },
     "metadata": {},
     "output_type": "display_data"
    },
    {
     "data": {
      "image/png": "[encoded data removed]",
      "text/plain": [
       "<matplotlib.figure.Figure at 0x118ff7668>"
      ]
     },
     "metadata": {},
     "output_type": "display_data"
    },
    {
     "data": {
      "image/png": "[encoded data removed]",
      "text/plain": [
       "<matplotlib.figure.Figure at 0x119239be0>"
      ]
     },
     "metadata": {},
     "output_type": "display_data"
    },
    {
     "data": {
      "image/png": "[encoded data removed]",
      "text/plain": [
       "<matplotlib.figure.Figure at 0x1193f96a0>"
      ]
     },
     "metadata": {},
     "output_type": "display_data"
    },
    {
     "data": {
      "image/png": "[encoded data removed]",
      "text/plain": [
       "<matplotlib.figure.Figure at 0x119582a90>"
      ]
     },
     "metadata": {},
     "output_type": "display_data"
    },
    {
     "data": {
      "image/png": "[encoded data removed]",
      "text/plain": [
       "<matplotlib.figure.Figure at 0x119690a58>"
      ]
     },
     "metadata": {},
     "output_type": "display_data"
    },
    {
     "data": {
      "image/png": "[encoded data removed]",
      "text/plain": [
       "<matplotlib.figure.Figure at 0x119724eb8>"
      ]
     },
     "metadata": {},
     "output_type": "display_data"
    },
    {
     "data": {
      "image/png": "[encoded data removed]",
      "text/plain": [
       "<matplotlib.figure.Figure at 0x11977c5c0>"
      ]
     },
     "metadata": {},
     "output_type": "display_data"
    },
    {
     "data": {
      "image/png": "[encoded data removed]",
      "text/plain": [
       "<matplotlib.figure.Figure at 0x1197abc18>"
      ]
     },
     "metadata": {},
     "output_type": "display_data"
    },
    {
     "data": {
      "image/png": "[encoded data removed]",
      "text/plain": [
       "<matplotlib.figure.Figure at 0x11990dbe0>"
      ]
     },
     "metadata": {},
     "output_type": "display_data"
    },
    {
     "data": {
      "image/png": "[encoded data removed]",
      "text/plain": [
       "<matplotlib.figure.Figure at 0x11998e780>"
      ]
     },
     "metadata": {},
     "output_type": "display_data"
    }
   ],
   "source": [
    "use_ibp_model = True\n",
    "if use_ibp_model:\n",
    "    resume_path = 'sample_data/model_files/vissmall_eps01_10000.npz'\n",
    "else:\n",
    "    resume_path = 'sample_data/model_files/vissmall_baseline_10000.npz'\n",
    "chainer.serializers.load_npz(resume_path, model)\n",
    "EPSILON = 0.1\n",
    "model.epsilon = EPSILON\n",
    "\n",
    "# pick an image, predict, and visualize bounds\n",
    "i = 0 # data index\n",
    "x, t = mnist[i][0][None], mnist[i][1][None]\n",
    "samples = model.forward_for_visualization_samples(x, t)\n",
    "visualize_bounds(samples, True)"
   ]
  },
  {
   "cell_type": "code",
   "execution_count": 5,
   "metadata": {
    "scrolled": false
   },
   "outputs": [
    {
     "name": "stdout",
     "output_type": "stream",
     "text": [
      "odict_keys(['x', 'l1', 'a1', 'l2', 'a2', 'l3', 'a3', 'y'])\n"
     ]
    },
    {
     "name": "stderr",
     "output_type": "stream",
     "text": [
      "/Users/sos/.pyenv/versions/anaconda3-5.0.0/lib/python3.6/site-packages/matplotlib/figure.py:1743: UserWarning: This figure includes Axes that are not compatible with tight_layout, so its results might be incorrect.\n",
      "  warnings.warn(\"This figure includes Axes that are not \"\n"
     ]
    },
    {
     "data": {
      "image/png": "[encoded data removed]",
      "text/plain": [
       "<matplotlib.figure.Figure at 0x1193a3748>"
      ]
     },
     "metadata": {},
     "output_type": "display_data"
    },
    {
     "data": {
      "image/png": "[encoded data removed]",
      "text/plain": [
       "<matplotlib.figure.Figure at 0x11c0e6d30>"
      ]
     },
     "metadata": {},
     "output_type": "display_data"
    },
    {
     "data": {
      "image/png": "[encoded data removed]",
      "text/plain": [
       "<matplotlib.figure.Figure at 0x11c173eb8>"
      ]
     },
     "metadata": {},
     "output_type": "display_data"
    },
    {
     "data": {
      "image/png": "[encoded data removed]",
      "text/plain": [
       "<matplotlib.figure.Figure at 0x11c1f5cf8>"
      ]
     },
     "metadata": {},
     "output_type": "display_data"
    },
    {
     "data": {
      "image/png": "[encoded data removed]",
      "text/plain": [
       "<matplotlib.figure.Figure at 0x11c29e7f0>"
      ]
     },
     "metadata": {},
     "output_type": "display_data"
    },
    {
     "data": {
      "image/png": "[encoded data removed]",
      "text/plain": [
       "<matplotlib.figure.Figure at 0x106836550>"
      ]
     },
     "metadata": {},
     "output_type": "display_data"
    },
    {
     "data": {
      "image/png": "[encoded data removed]",
      "text/plain": [
       "<matplotlib.figure.Figure at 0x118dbe208>"
      ]
     },
     "metadata": {},
     "output_type": "display_data"
    },
    {
     "data": {
      "image/png": "[encoded data removed]",
      "text/plain": [
       "<matplotlib.figure.Figure at 0x11bd15c18>"
      ]
     },
     "metadata": {},
     "output_type": "display_data"
    },
    {
     "data": {
      "image/png": "[encoded data removed]",
      "text/plain": [
       "<matplotlib.figure.Figure at 0x118ef3828>"
      ]
     },
     "metadata": {},
     "output_type": "display_data"
    },
    {
     "data": {
      "image/png": "[encoded data removed]",
      "text/plain": [
       "<matplotlib.figure.Figure at 0x1194fbe80>"
      ]
     },
     "metadata": {},
     "output_type": "display_data"
    },
    {
     "data": {
      "image/png": "[encoded data removed]",
      "text/plain": [
       "<matplotlib.figure.Figure at 0x118b68b38>"
      ]
     },
     "metadata": {},
     "output_type": "display_data"
    },
    {
     "data": {
      "image/png": "[encoded data removed]",
      "text/plain": [
       "<matplotlib.figure.Figure at 0x118c23b00>"
      ]
     },
     "metadata": {},
     "output_type": "display_data"
    },
    {
     "data": {
      "image/png": "[encoded data removed]",
      "text/plain": [
       "<matplotlib.figure.Figure at 0x118c53048>"
      ]
     },
     "metadata": {},
     "output_type": "display_data"
    },
    {
     "data": {
      "image/png": "[encoded data removed]",
      "text/plain": [
       "<matplotlib.figure.Figure at 0x11949ca90>"
      ]
     },
     "metadata": {},
     "output_type": "display_data"
    },
    {
     "data": {
      "image/png": "[encoded data removed]",
      "text/plain": [
       "<matplotlib.figure.Figure at 0x118e75400>"
      ]
     },
     "metadata": {},
     "output_type": "display_data"
    },
    {
     "data": {
      "image/png": "[encoded data removed]",
      "text/plain": [
       "<matplotlib.figure.Figure at 0x118ce2da0>"
      ]
     },
     "metadata": {},
     "output_type": "display_data"
    },
    {
     "data": {
      "image/png": "[encoded data removed]",
      "text/plain": [
       "<matplotlib.figure.Figure at 0x118b7f438>"
      ]
     },
     "metadata": {},
     "output_type": "display_data"
    },
    {
     "data": {
      "image/png": "[encoded data removed]",
      "text/plain": [
       "<matplotlib.figure.Figure at 0x118ee6cc0>"
      ]
     },
     "metadata": {},
     "output_type": "display_data"
    }
   ],
   "source": [
    "use_ibp_model = False\n",
    "if use_ibp_model:\n",
    "    resume_path = 'sample_data/model_files/vissmall_eps01_10000.npz'\n",
    "else:\n",
    "    resume_path = 'sample_data/model_files/vissmall_baseline_10000.npz'\n",
    "chainer.serializers.load_npz(resume_path, model)\n",
    "EPSILON = 0.1\n",
    "model.epsilon = EPSILON\n",
    "\n",
    "# pick an image, predict, and visualize bounds\n",
    "i = 0 # data index\n",
    "x, t = mnist[i][0][None], mnist[i][1][None]\n",
    "samples = model.forward_for_visualization_samples(x, t)\n",
    "visualize_bounds(samples, True)"
   ]
  }
 ],
 "metadata": {
  "kernelspec": {
   "display_name": "Python 3",
   "language": "python",
   "name": "python3"
  },
  "language_info": {
   "codemirror_mode": {
    "name": "ipython",
    "version": 3
   },
   "file_extension": ".py",
   "mimetype": "text/x-python",
   "name": "python",
   "nbconvert_exporter": "python",
   "pygments_lexer": "ipython3",
   "version": "3.6.2"
  }
 },
 "nbformat": 4,
 "nbformat_minor": 2
}
